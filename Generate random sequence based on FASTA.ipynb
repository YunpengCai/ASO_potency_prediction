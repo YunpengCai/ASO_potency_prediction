{
 "cells": [
  {
   "cell_type": "code",
   "execution_count": null,
   "metadata": {},
   "outputs": [],
   "source": [
    "from biopython import SeqIO\n",
    "from Bio.SeqRecord import SeqRecord\n",
    "from Bio.Alphabet import IUPAC\n",
    "from Bio.Seq import Seq\n",
    "import random\n",
    "import argparse"
   ]
  },
  {
   "cell_type": "code",
   "execution_count": null,
   "metadata": {},
   "outputs": [],
   "source": [
    "# Fetch sequence from the FASTA file downloaded from NCBI\n",
    "def read_fasta(fname):\n",
    "    \n",
    "    handle = open(fname, \"rU\")\n",
    "    sequence = []\n",
    "    \n",
    "    for bases in SeqIO.parse(handle, \"fasta\") :\n",
    "       \n",
    "        sequence = list(bases.seq)\n",
    "    handle.close()\n",
    "    return sequence"
   ]
  },
  {
   "cell_type": "code",
   "execution_count": null,
   "metadata": {},
   "outputs": [],
   "source": [
    "def shuffle_seq(sequence, n=100):\n",
    "    \"\"\"\n",
    "    \"\"\"\n",
    "    original_sequence = ''.join(sequence)\n",
    "    temp_sequence = sequence\n",
    "    for i in range(100):\n",
    "        random.shuffle(temp_sequence)\n",
    "    randomized_sequence = ''.join(temp_sequence)\n",
    "    \n",
    "    randomized_Seq_object = Seq(randomized_sequence, IUPAC.unambiguous_dna)\n",
    "\n",
    "    randomized_sequence_record = SeqRecord(randomized_Seq_object,id=\"Undefined\",name=\"Undefined\", description=\"Undefined\")\n",
    "    return randomized_sequence_record"
   ]
  },
  {
   "cell_type": "code",
   "execution_count": null,
   "metadata": {},
   "outputs": [],
   "source": [
    "def write_new_sequence(fname):\n",
    "    output_handle = open(fname, \"w\")\n",
    "    SeqIO.write(randomized_sequence_record, output_handle, \"fasta\")\n",
    "    output_handle.close()\n",
    "    print \"Wrote randomized sequence to %s \" % fname"
   ]
  }
 ],
 "metadata": {
  "kernelspec": {
   "display_name": "Python 3",
   "language": "python",
   "name": "python3"
  },
  "language_info": {
   "codemirror_mode": {
    "name": "ipython",
    "version": 3
   },
   "file_extension": ".py",
   "mimetype": "text/x-python",
   "name": "python",
   "nbconvert_exporter": "python",
   "pygments_lexer": "ipython3",
   "version": "3.7.2"
  }
 },
 "nbformat": 4,
 "nbformat_minor": 1
}
